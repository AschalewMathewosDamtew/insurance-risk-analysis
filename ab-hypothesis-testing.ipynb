{
 "cells": [
  {
   "cell_type": "markdown",
   "metadata": {},
   "source": [
    "### Risk Analysis Across Provinces\n",
    "\n",
    "This analysis compares claims frequency between two groups based on province:\n",
    "\n",
    "1. **Data Loading**: Load the dataset into a Pandas DataFrame.\n",
    "2. **Group Selection**:\n",
    "   - **Group A (Control)**: Policies from the lower-risk province 'Gauteng'.\n",
    "   - **Group B (Test)**: Policies from the higher-risk province 'Western Cape'.\n",
    "3. **Verification**: Check group sizes and for null values.\n",
    "4. **Claims Frequency Calculation**: Compute claims frequency as total claims divided by total premium.\n",
    "5. **Statistical Comparison**: Perform a t-test to compare total claims between the two groups.\n",
    "6. **Hypothesis Testing**: Decide to reject or fail to reject the null hypothesis based on the p-value.\n",
    "7. **Visualization**: Create histograms to visualize total claims distribution.\n",
    "\n",
    "The following code implements these steps to analyze risk differences across provinces.\n"
   ]
  },
  {
   "cell_type": "code",
   "execution_count": 17,
   "metadata": {},
   "outputs": [
    {
     "name": "stderr",
     "output_type": "stream",
     "text": [
      "C:\\Users\\biement fanteye\\AppData\\Local\\Temp\\ipykernel_20164\\1026256002.py:8: DtypeWarning: Columns (32,37) have mixed types. Specify dtype option on import or set low_memory=False.\n",
      "  df = pd.read_csv('dataset.csv')\n"
     ]
    },
    {
     "data": {
      "text/html": [
       "<div>\n",
       "<style scoped>\n",
       "    .dataframe tbody tr th:only-of-type {\n",
       "        vertical-align: middle;\n",
       "    }\n",
       "\n",
       "    .dataframe tbody tr th {\n",
       "        vertical-align: top;\n",
       "    }\n",
       "\n",
       "    .dataframe thead th {\n",
       "        text-align: right;\n",
       "    }\n",
       "</style>\n",
       "<table border=\"1\" class=\"dataframe\">\n",
       "  <thead>\n",
       "    <tr style=\"text-align: right;\">\n",
       "      <th></th>\n",
       "      <th>UnderwrittenCoverID</th>\n",
       "      <th>PolicyID</th>\n",
       "      <th>TransactionMonth</th>\n",
       "      <th>IsVATRegistered</th>\n",
       "      <th>Citizenship</th>\n",
       "      <th>LegalType</th>\n",
       "      <th>Title</th>\n",
       "      <th>Language</th>\n",
       "      <th>Bank</th>\n",
       "      <th>AccountType</th>\n",
       "      <th>...</th>\n",
       "      <th>ExcessSelected</th>\n",
       "      <th>CoverCategory</th>\n",
       "      <th>CoverType</th>\n",
       "      <th>CoverGroup</th>\n",
       "      <th>Section</th>\n",
       "      <th>Product</th>\n",
       "      <th>StatutoryClass</th>\n",
       "      <th>StatutoryRiskType</th>\n",
       "      <th>TotalPremium</th>\n",
       "      <th>TotalClaims</th>\n",
       "    </tr>\n",
       "  </thead>\n",
       "  <tbody>\n",
       "    <tr>\n",
       "      <th>0</th>\n",
       "      <td>145249</td>\n",
       "      <td>12827</td>\n",
       "      <td>2015-03-01 00:00:00</td>\n",
       "      <td>True</td>\n",
       "      <td></td>\n",
       "      <td>Close Corporation</td>\n",
       "      <td>Mr</td>\n",
       "      <td>English</td>\n",
       "      <td>First National Bank</td>\n",
       "      <td>Current account</td>\n",
       "      <td>...</td>\n",
       "      <td>Mobility - Windscreen</td>\n",
       "      <td>Windscreen</td>\n",
       "      <td>Windscreen</td>\n",
       "      <td>Comprehensive - Taxi</td>\n",
       "      <td>Motor Comprehensive</td>\n",
       "      <td>Mobility Metered Taxis: Monthly</td>\n",
       "      <td>Commercial</td>\n",
       "      <td>IFRS Constant</td>\n",
       "      <td>21.929825</td>\n",
       "      <td>0.0</td>\n",
       "    </tr>\n",
       "    <tr>\n",
       "      <th>1</th>\n",
       "      <td>145249</td>\n",
       "      <td>12827</td>\n",
       "      <td>2015-05-01 00:00:00</td>\n",
       "      <td>True</td>\n",
       "      <td></td>\n",
       "      <td>Close Corporation</td>\n",
       "      <td>Mr</td>\n",
       "      <td>English</td>\n",
       "      <td>First National Bank</td>\n",
       "      <td>Current account</td>\n",
       "      <td>...</td>\n",
       "      <td>Mobility - Windscreen</td>\n",
       "      <td>Windscreen</td>\n",
       "      <td>Windscreen</td>\n",
       "      <td>Comprehensive - Taxi</td>\n",
       "      <td>Motor Comprehensive</td>\n",
       "      <td>Mobility Metered Taxis: Monthly</td>\n",
       "      <td>Commercial</td>\n",
       "      <td>IFRS Constant</td>\n",
       "      <td>21.929825</td>\n",
       "      <td>0.0</td>\n",
       "    </tr>\n",
       "    <tr>\n",
       "      <th>2</th>\n",
       "      <td>145249</td>\n",
       "      <td>12827</td>\n",
       "      <td>2015-07-01 00:00:00</td>\n",
       "      <td>True</td>\n",
       "      <td></td>\n",
       "      <td>Close Corporation</td>\n",
       "      <td>Mr</td>\n",
       "      <td>English</td>\n",
       "      <td>First National Bank</td>\n",
       "      <td>Current account</td>\n",
       "      <td>...</td>\n",
       "      <td>Mobility - Windscreen</td>\n",
       "      <td>Windscreen</td>\n",
       "      <td>Windscreen</td>\n",
       "      <td>Comprehensive - Taxi</td>\n",
       "      <td>Motor Comprehensive</td>\n",
       "      <td>Mobility Metered Taxis: Monthly</td>\n",
       "      <td>Commercial</td>\n",
       "      <td>IFRS Constant</td>\n",
       "      <td>0.000000</td>\n",
       "      <td>0.0</td>\n",
       "    </tr>\n",
       "    <tr>\n",
       "      <th>3</th>\n",
       "      <td>145255</td>\n",
       "      <td>12827</td>\n",
       "      <td>2015-05-01 00:00:00</td>\n",
       "      <td>True</td>\n",
       "      <td></td>\n",
       "      <td>Close Corporation</td>\n",
       "      <td>Mr</td>\n",
       "      <td>English</td>\n",
       "      <td>First National Bank</td>\n",
       "      <td>Current account</td>\n",
       "      <td>...</td>\n",
       "      <td>Mobility - Metered Taxis - R2000</td>\n",
       "      <td>Own damage</td>\n",
       "      <td>Own Damage</td>\n",
       "      <td>Comprehensive - Taxi</td>\n",
       "      <td>Motor Comprehensive</td>\n",
       "      <td>Mobility Metered Taxis: Monthly</td>\n",
       "      <td>Commercial</td>\n",
       "      <td>IFRS Constant</td>\n",
       "      <td>512.848070</td>\n",
       "      <td>0.0</td>\n",
       "    </tr>\n",
       "    <tr>\n",
       "      <th>4</th>\n",
       "      <td>145255</td>\n",
       "      <td>12827</td>\n",
       "      <td>2015-07-01 00:00:00</td>\n",
       "      <td>True</td>\n",
       "      <td></td>\n",
       "      <td>Close Corporation</td>\n",
       "      <td>Mr</td>\n",
       "      <td>English</td>\n",
       "      <td>First National Bank</td>\n",
       "      <td>Current account</td>\n",
       "      <td>...</td>\n",
       "      <td>Mobility - Metered Taxis - R2000</td>\n",
       "      <td>Own damage</td>\n",
       "      <td>Own Damage</td>\n",
       "      <td>Comprehensive - Taxi</td>\n",
       "      <td>Motor Comprehensive</td>\n",
       "      <td>Mobility Metered Taxis: Monthly</td>\n",
       "      <td>Commercial</td>\n",
       "      <td>IFRS Constant</td>\n",
       "      <td>0.000000</td>\n",
       "      <td>0.0</td>\n",
       "    </tr>\n",
       "  </tbody>\n",
       "</table>\n",
       "<p>5 rows × 52 columns</p>\n",
       "</div>"
      ],
      "text/plain": [
       "   UnderwrittenCoverID  PolicyID     TransactionMonth  IsVATRegistered  \\\n",
       "0               145249     12827  2015-03-01 00:00:00             True   \n",
       "1               145249     12827  2015-05-01 00:00:00             True   \n",
       "2               145249     12827  2015-07-01 00:00:00             True   \n",
       "3               145255     12827  2015-05-01 00:00:00             True   \n",
       "4               145255     12827  2015-07-01 00:00:00             True   \n",
       "\n",
       "  Citizenship          LegalType Title Language                 Bank  \\\n",
       "0              Close Corporation    Mr  English  First National Bank   \n",
       "1              Close Corporation    Mr  English  First National Bank   \n",
       "2              Close Corporation    Mr  English  First National Bank   \n",
       "3              Close Corporation    Mr  English  First National Bank   \n",
       "4              Close Corporation    Mr  English  First National Bank   \n",
       "\n",
       "       AccountType  ...                    ExcessSelected CoverCategory  \\\n",
       "0  Current account  ...             Mobility - Windscreen    Windscreen   \n",
       "1  Current account  ...             Mobility - Windscreen    Windscreen   \n",
       "2  Current account  ...             Mobility - Windscreen    Windscreen   \n",
       "3  Current account  ...  Mobility - Metered Taxis - R2000    Own damage   \n",
       "4  Current account  ...  Mobility - Metered Taxis - R2000    Own damage   \n",
       "\n",
       "    CoverType            CoverGroup              Section  \\\n",
       "0  Windscreen  Comprehensive - Taxi  Motor Comprehensive   \n",
       "1  Windscreen  Comprehensive - Taxi  Motor Comprehensive   \n",
       "2  Windscreen  Comprehensive - Taxi  Motor Comprehensive   \n",
       "3  Own Damage  Comprehensive - Taxi  Motor Comprehensive   \n",
       "4  Own Damage  Comprehensive - Taxi  Motor Comprehensive   \n",
       "\n",
       "                           Product StatutoryClass StatutoryRiskType  \\\n",
       "0  Mobility Metered Taxis: Monthly     Commercial     IFRS Constant   \n",
       "1  Mobility Metered Taxis: Monthly     Commercial     IFRS Constant   \n",
       "2  Mobility Metered Taxis: Monthly     Commercial     IFRS Constant   \n",
       "3  Mobility Metered Taxis: Monthly     Commercial     IFRS Constant   \n",
       "4  Mobility Metered Taxis: Monthly     Commercial     IFRS Constant   \n",
       "\n",
       "   TotalPremium TotalClaims  \n",
       "0     21.929825         0.0  \n",
       "1     21.929825         0.0  \n",
       "2      0.000000         0.0  \n",
       "3    512.848070         0.0  \n",
       "4      0.000000         0.0  \n",
       "\n",
       "[5 rows x 52 columns]"
      ]
     },
     "execution_count": 17,
     "metadata": {},
     "output_type": "execute_result"
    }
   ],
   "source": [
    "import pandas as pd\n",
    "import numpy as np\n",
    "import scipy.stats as stats\n",
    "import seaborn as sns\n",
    "import matplotlib.pyplot as plt\n",
    "\n",
    "# Load the dataset\n",
    "df = pd.read_csv('dataset.csv')\n",
    "\n",
    "# Check for null values\n",
    "df.isnull().sum()\n",
    "\n",
    "# Preview the dataset\n",
    "df.head()"
   ]
  },
  {
   "cell_type": "code",
   "execution_count": 18,
   "metadata": {},
   "outputs": [
    {
     "name": "stdout",
     "output_type": "stream",
     "text": [
      "Group A size: (393865, 52)\n",
      "Group B size: (170796, 52)\n"
     ]
    }
   ],
   "source": [
    "# Group A (Control): Select policies from provinces that are considered lower-risk (example: 'Gauteng')\n",
    "group_a = df[df['Province'] == 'Gauteng']\n",
    "\n",
    "# Group B (Test): Select policies from provinces that are considered higher-risk (example: 'Western Cape')\n",
    "group_b = df[df['Province'] == 'Western Cape']\n",
    "\n",
    "# Verify the sizes of the groups\n",
    "print(f\"Group A size: {group_a.shape}\")\n",
    "print(f\"Group B size: {group_b.shape}\")"
   ]
  },
  {
   "cell_type": "code",
   "execution_count": 19,
   "metadata": {},
   "outputs": [
    {
     "name": "stdout",
     "output_type": "stream",
     "text": [
      "Claims Frequency - Group A (Control): 1.2220181234256304\n",
      "Claims Frequency - Group B (Test): 1.059471955009161\n"
     ]
    }
   ],
   "source": [
    "# Function to calculate Claims Frequency\n",
    "def calculate_claims_frequency(group):\n",
    "    total_premium = group['TotalPremium'].sum()\n",
    "    total_claims = group['TotalClaims'].sum()\n",
    "    claims_frequency = total_claims / total_premium\n",
    "    return claims_frequency\n",
    "\n",
    "# Calculate Claims Frequency for Group A and Group B\n",
    "claims_frequency_a = calculate_claims_frequency(group_a)\n",
    "claims_frequency_b = calculate_claims_frequency(group_b)\n",
    "\n",
    "print(f\"Claims Frequency - Group A (Control): {claims_frequency_a}\")\n",
    "print(f\"Claims Frequency - Group B (Test): {claims_frequency_b}\")"
   ]
  },
  {
   "cell_type": "code",
   "execution_count": 20,
   "metadata": {},
   "outputs": [
    {
     "name": "stdout",
     "output_type": "stream",
     "text": [
      "T-statistic: 1.8652143496485993\n",
      "P-value: 0.06215231452280004\n",
      "Fail to reject the null hypothesis: No significant risk difference across provinces.\n"
     ]
    }
   ],
   "source": [
    "# Perform a t-test to compare the means of the two groups\n",
    "t_stat, p_value = stats.ttest_ind(group_a['TotalClaims'], group_b['TotalClaims'], equal_var=False)\n",
    "\n",
    "# Output the results\n",
    "print(f\"T-statistic: {t_stat}\")\n",
    "print(f\"P-value: {p_value}\")\n",
    "\n",
    "# Check if we reject or accept the null hypothesis\n",
    "alpha = 0.05  # significance level\n",
    "if p_value < alpha:\n",
    "    print(\"Reject the null hypothesis: There is a significant risk difference across provinces.\")\n",
    "else:\n",
    "    print(\"Fail to reject the null hypothesis: No significant risk difference across provinces.\")"
   ]
  },
  {
   "cell_type": "code",
   "execution_count": 21,
   "metadata": {},
   "outputs": [
    {
     "data": {
      "image/png": "[encoded data removed]",
      "text/plain": [
       "<Figure size 640x480 with 1 Axes>"
      ]
     },
     "metadata": {},
     "output_type": "display_data"
    }
   ],
   "source": [
    "\n",
    "# Plot claims distribution for Group A and Group B\n",
    "sns.histplot(group_a['TotalClaims'], color='blue', label='Group A (Control)', kde=True)\n",
    "sns.histplot(group_b['TotalClaims'], color='red', label='Group B (Test)', kde=True)\n",
    "\n",
    "plt.legend()\n",
    "plt.title(\"Claims Distribution by Group\")\n",
    "plt.xlabel(\"Total Claims\")\n",
    "plt.ylabel(\"Frequency\")\n",
    "plt.show()"
   ]
  },
  {
   "cell_type": "markdown",
   "metadata": {},
   "source": [
    "### Analysis of TotalPremium and TotalClaims by Postal Code Group\n",
    "\n",
    "This analysis examines whether there are significant differences in **TotalPremium** and **TotalClaims** between two groups of postal codes derived from the top 50 most frequent postal codes.\n",
    "\n",
    "#### Steps:\n",
    "1. Identify the top 50 postal codes by frequency.\n",
    "2. Split these postal codes into two groups:\n",
    "   - Odd indexed (e.g., positions 0, 2, 4)\n",
    "   - Even indexed (e.g., positions 1, 3, 5)\n",
    "3. Conduct independent t-tests to compare:\n",
    "   - **TotalPremium**\n",
    "   - **TotalClaims**\n",
    "4. Use a significance level of **α = 0.05** to evaluate the null hypothesis that there is no significant difference.\n",
    "\n",
    "The following code implements this analysis and presents the results.\n"
   ]
  },
  {
   "cell_type": "code",
   "execution_count": 22,
   "metadata": {},
   "outputs": [],
   "source": [
    "from scipy import stats\n",
    "\n",
    "# Step 1: Find the top 50 postal codes by frequency\n",
    "top_50_postal_codes = df['PostalCode'].value_counts().head(50).index\n",
    "\n",
    "# Step 2: Split the top 50 into two groups: odd and even positions\n",
    "odd_postal_codes = top_50_postal_codes[::2]  # Postal codes at odd positions (index 0, 2, 4, ...)\n",
    "even_postal_codes = top_50_postal_codes[1::2]  # Postal codes at even positions (index 1, 3, 5, ...)\n",
    "\n",
    "# Filter the dataset to include only rows from these postal codes\n",
    "group_odd = df[df['PostalCode'].isin(odd_postal_codes)]\n",
    "group_even = df[df['PostalCode'].isin(even_postal_codes)]"
   ]
  },
  {
   "cell_type": "code",
   "execution_count": 23,
   "metadata": {},
   "outputs": [
    {
     "name": "stdout",
     "output_type": "stream",
     "text": [
      "Comparison of TotalPremium between odd and even indexed postal codes:\n",
      "T-statistic: -1.7747287006573247, P-value: 0.07594331587208471\n",
      "Fail to reject the null hypothesis: No significant difference.\n",
      "\n",
      "Comparison of TotalClaims between odd and even indexed postal codes:\n",
      "T-statistic: -1.4426328589621789, P-value: 0.14912462294944695\n",
      "Fail to reject the null hypothesis: No significant difference.\n"
     ]
    }
   ],
   "source": [
    "# Significance level\n",
    "alpha = 0.05\n",
    "\n",
    "# Step 3: Perform t-tests to compare the metrics between Odd and Even postal codes\n",
    "# Example metric: TotalPremium\n",
    "t_stat_premium, p_value_premium = stats.ttest_ind(group_odd['TotalPremium'], group_even['TotalPremium'], equal_var=False)\n",
    "\n",
    "# Example metric: TotalClaims\n",
    "t_stat_claims, p_value_claims = stats.ttest_ind(group_odd['TotalClaims'], group_even['TotalClaims'], equal_var=False)\n",
    "\n",
    "# Step 4: Output results with decision to accept/reject the null hypothesis\n",
    "def hypothesis_test(p_value, alpha=0.05):\n",
    "    if p_value < alpha:\n",
    "        return \"Reject the null hypothesis: There is a significant difference.\"\n",
    "    else:\n",
    "        return \"Fail to reject the null hypothesis: No significant difference.\"\n",
    "\n",
    "print(f\"Comparison of TotalPremium between odd and even indexed postal codes:\")\n",
    "print(f\"T-statistic: {t_stat_premium}, P-value: {p_value_premium}\")\n",
    "print(hypothesis_test(p_value_premium, alpha))\n",
    "\n",
    "print(f\"\\nComparison of TotalClaims between odd and even indexed postal codes:\")\n",
    "print(f\"T-statistic: {t_stat_claims}, P-value: {p_value_claims}\")\n",
    "print(hypothesis_test(p_value_claims, alpha))"
   ]
  },
  {
   "cell_type": "markdown",
   "metadata": {},
   "source": [
    "### ANOVA Test for Profit Margin Differences Across Zip Codes\n",
    "\n",
    "In this analysis, we aim to test the null hypothesis:\n",
    "\n",
    "**H₀**: There are no significant differences in profit margins across different zip codes.\n",
    "\n",
    "We calculate the profit margin as the difference between `TotalPremium` and `TotalClaims`, and group the data by zip code (PostalCode). An ANOVA (Analysis of Variance) test is then performed to determine if there are statistically significant differences in the average profit margins across zip codes.\n",
    "\n",
    "If the p-value from the ANOVA test is:\n",
    "- **p < 0.05**: We reject the null hypothesis and conclude that there are significant differences in profit margins between zip codes.\n",
    "- **p ≥ 0.05**: We fail to reject the null hypothesis, suggesting no significant differences in profit margins between zip codes.\n"
   ]
  },
  {
   "cell_type": "code",
   "execution_count": 27,
   "metadata": {},
   "outputs": [
    {
     "name": "stdout",
     "output_type": "stream",
     "text": [
      "ANOVA F-value: 0.8707474893589257\n",
      "P-value: 0.9976859758015036\n",
      "Fail to reject the null hypothesis: There are no significant differences in profit margins between zip codes.\n"
     ]
    }
   ],
   "source": [
    "# Calculate the Profit Margin (TotalPremium - TotalClaims)\n",
    "df['ProfitMargin'] = df['TotalPremium'] - df['TotalClaims']\n",
    "\n",
    "# Group by PostalCode and calculate the mean profit margin for each zip code\n",
    "grouped_data = df.groupby('PostalCode')['ProfitMargin'].apply(list)\n",
    "\n",
    "# Perform the ANOVA test (if profit margins are normally distributed)\n",
    "f_value, p_value = stats.f_oneway(*grouped_data)\n",
    "\n",
    "# Output the F-statistic and p-value\n",
    "print(f\"ANOVA F-value: {f_value}\")\n",
    "print(f\"P-value: {p_value}\")\n",
    "\n",
    "# Interpretation of the result\n",
    "if p_value < 0.05:\n",
    "    print(\"Reject the null hypothesis: There are significant differences in profit margins between zip codes.\")\n",
    "else:\n",
    "    print(\"Fail to reject the null hypothesis: There are no significant differences in profit margins between zip codes.\")\n"
   ]
  },
  {
   "cell_type": "markdown",
   "metadata": {},
   "source": [
    "### Hypothesis Testing: Risk Difference between Men and Women\n",
    "\n",
    "This section conducts hypothesis testing to evaluate whether there is a significant difference in risk between men and women based on claims data.\n",
    "\n",
    "#### Steps:\n",
    "1. **T-test**: Compares the average `TotalClaims` (continuous risk) between men and women.\n",
    "2. **Chi-squared test**: Compares the occurrence of claims (`ClaimMade`) between men and women to assess categorical risk.\n",
    "\n",
    "#### Hypotheses:\n",
    "- **Null Hypothesis (H₀)**: There is no significant difference in risk between men and women.\n",
    "- **Alternative Hypothesis (H₁)**: There is a significant difference in risk between men and women.\n",
    "\n",
    "#### Outcomes:\n",
    "- **p-value < 0.05**: Reject H₀, indicating a significant difference.\n",
    "- **p-value ≥ 0.05**: Fail to reject H₀, indicating no significant difference.\n"
   ]
  },
  {
   "cell_type": "code",
   "execution_count": 25,
   "metadata": {},
   "outputs": [
    {
     "name": "stdout",
     "output_type": "stream",
     "text": [
      "T-test p-value: 0.5680286951630673\n",
      "Fail to reject the null hypothesis: No significant risk difference between men and women.\n"
     ]
    }
   ],
   "source": [
    "\n",
    "from scipy.stats import ttest_ind, chi2_contingency\n",
    "\n",
    "\n",
    "\n",
    "# Data cleaning: Remove rows with missing or irrelevant gender information\n",
    "df_clean = df[df['Gender'].notna()]\n",
    "\n",
    "# Convert gender to a categorical variable (if not already)\n",
    "df_clean['Gender'] = df_clean['Gender'].astype('category')\n",
    "\n",
    "# Step 1: Define risk as TotalClaims\n",
    "# Remove rows with missing or zero TotalClaims for meaningful analysis\n",
    "df_risk = df_clean[df_clean['TotalClaims'] > 0]\n",
    "\n",
    "# Separate data into two groups: Men and Women\n",
    "group_men = df_risk[df_risk['Gender'] == 'Male']\n",
    "group_women = df_risk[df_risk['Gender'] == 'Female']\n",
    "\n",
    "# Step 2: T-test for continuous data (TotalClaims)\n",
    "t_stat, p_value = ttest_ind(group_men['TotalClaims'], group_women['TotalClaims'], equal_var=False)\n",
    "\n",
    "# Print t-test results\n",
    "print(f\"T-test p-value: {p_value}\")\n",
    "if p_value < 0.05:\n",
    "    print(\"Reject the null hypothesis: There is a significant risk difference between men and women.\")\n",
    "else:\n",
    "    print(\"Fail to reject the null hypothesis: No significant risk difference between men and women.\")\n"
   ]
  },
  {
   "cell_type": "code",
   "execution_count": 26,
   "metadata": {},
   "outputs": [
    {
     "name": "stdout",
     "output_type": "stream",
     "text": [
      "Chi-squared test p-value: 0.003993781054238153\n",
      "Reject the null hypothesis: There is a significant risk difference between men and women.\n"
     ]
    }
   ],
   "source": [
    "# Step 3: Chi-squared test for categorical data (if you consider claim occurrence)\n",
    "# Convert TotalClaims to a binary variable: 1 if claim made, 0 otherwise\n",
    "df_clean['ClaimMade'] = df_clean['TotalClaims'].apply(lambda x: 1 if x > 0 else 0)\n",
    "\n",
    "# Create a contingency table for chi-squared test\n",
    "contingency_table = pd.crosstab(df_clean['Gender'], df_clean['ClaimMade'])\n",
    "\n",
    "# Run chi-squared test\n",
    "chi2, chi2_p_value, _, _ = chi2_contingency(contingency_table)\n",
    "\n",
    "# Print Chi-squared test results\n",
    "print(f\"Chi-squared test p-value: {chi2_p_value}\")\n",
    "if chi2_p_value < 0.05:\n",
    "    print(\"Reject the null hypothesis: There is a significant risk difference between men and women.\")\n",
    "else:\n",
    "    print(\"Fail to reject the null hypothesis: No significant risk difference between men and women.\")\n"
   ]
  },
  {
   "cell_type": "markdown",
   "metadata": {},
   "source": [
    "#### Interpretation:\n",
    "Based on the Chi-squared test, men and women have different likelihoods of making a claim.\n",
    "However, the T-test shows that when claims are made, the total amount of claims does not significantly differ between genders.\n",
    "This implies that gender may influence the frequency of claims but not necessarily the severity or amount of claims."
   ]
  }
 ],
 "metadata": {
  "kernelspec": {
   "display_name": ".venv",
   "language": "python",
   "name": "python3"
  },
  "language_info": {
   "codemirror_mode": {
    "name": "ipython",
    "version": 3
   },
   "file_extension": ".py",
   "mimetype": "text/x-python",
   "name": "python",
   "nbconvert_exporter": "python",
   "pygments_lexer": "ipython3",
   "version": "3.12.5"
  }
 },
 "nbformat": 4,
 "nbformat_minor": 2
}
